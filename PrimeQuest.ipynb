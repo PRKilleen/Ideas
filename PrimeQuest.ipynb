{
 "cells": [
  {
   "cell_type": "code",
   "execution_count": 1,
   "id": "c7bd8a2e-a14e-4da5-91e7-53848a74439c",
   "metadata": {},
   "outputs": [],
   "source": [
    "import tkinter as tk\n",
    "import numpy as np"
   ]
  },
  {
   "cell_type": "code",
   "execution_count": 2,
   "id": "57388be0-d037-4863-820c-f9fc834f1d55",
   "metadata": {},
   "outputs": [],
   "source": [
    "def get_next_prime():\n",
    "    global current_prime\n",
    "\n",
    "    potential_prime = current_prime + 1\n",
    "    next_prime = 0\n",
    "\n",
    "    while next_prime == 0:\n",
    "        is_prime = True  # initialise as true and make false when divisor found to be efficient\n",
    "        for i in range(2, int(potential_prime ** 0.5) + 1): # checks in a range up to square root of candidate to be efficient\n",
    "            if potential_prime % i == 0:\n",
    "                is_prime = False\n",
    "                break  # Exit the for loop since divisor found\n",
    "        if is_prime:\n",
    "            next_prime = potential_prime  # Prime found\n",
    "        else:\n",
    "            potential_prime += 1  # go to the next candidate if was not a prime\n",
    "\n",
    "    current_prime = next_prime\n",
    "    gui_currentprime_label.config(text=f'prime: {current_prime}')"
   ]
  },
  {
   "cell_type": "code",
   "execution_count": 3,
   "id": "b06197ad-fc87-456b-8d16-e4a1682640e2",
   "metadata": {},
   "outputs": [],
   "source": [
    "def reset_prime():\n",
    "    global current_prime\n",
    "    current_prime = 0\n",
    "    gui_currentprime_label.config(text=f'prime: {current_prime}')"
   ]
  },
  {
   "cell_type": "code",
   "execution_count": 4,
   "id": "288dc5bd-1aa6-43d4-8a43-52d86ec47762",
   "metadata": {},
   "outputs": [],
   "source": [
    "# interface\n",
    "root = tk.Tk()\n",
    "root.title(\"PrimeQuest\")\n",
    "\n",
    "gui_title_main = tk.Label(root, text=\"PrimeQuest\", font=(\"Arial\", 22, \"bold\"))\n",
    "gui_title_main.pack(pady=5)\n",
    "\n",
    "def create_popup():\n",
    "    popup = tk.Toplevel(root)\n",
    "    \n",
    "    popup.title(\"PrimeQuest Information\")\n",
    "\n",
    "    label = tk.Label(popup, text=\"Iterates over subsequent numbers to find the next prime.\")\n",
    "    label.pack(pady=2)\n",
    "\n",
    "    close_button = tk.Button(popup, text=\"Close\", command=popup.destroy)\n",
    "    close_button.pack(pady=10)\n",
    "\n",
    "open_popup_button = tk.Button(root, text=\"More info\", font=(\"Arial\", 10), command=create_popup)\n",
    "open_popup_button.pack(pady=5)\n",
    "\n",
    "gui_buttons_frame = tk.Frame(root)\n",
    "gui_buttons_frame.pack(pady=5)\n",
    "\n",
    "gui_getnextprime_button = tk.Button(gui_buttons_frame, text=\"Get next prime\", font=(\"Arial\", 10), command=get_next_prime)\n",
    "gui_getnextprime_button.pack(side=\"left\", padx=(5, 0))\n",
    "gui_reset_button = tk.Button(gui_buttons_frame, text=\"Reset prime\", font=(\"Arial\", 10), command=reset_prime)\n",
    "gui_reset_button.pack(side=\"left\", padx=(5, 0))\n",
    "\n",
    "current_prime = 1\n",
    "gui_currentprime_label = tk.Label(root, text=f'prime: {current_prime}', font=(\"Arial\", 10))\n",
    "gui_currentprime_label.pack(pady=5)\n",
    "\n",
    "root.mainloop()"
   ]
  }
 ],
 "metadata": {
  "kernelspec": {
   "display_name": "Python 3 (ipykernel)",
   "language": "python",
   "name": "python3"
  },
  "language_info": {
   "codemirror_mode": {
    "name": "ipython",
    "version": 3
   },
   "file_extension": ".py",
   "mimetype": "text/x-python",
   "name": "python",
   "nbconvert_exporter": "python",
   "pygments_lexer": "ipython3",
   "version": "3.12.0"
  }
 },
 "nbformat": 4,
 "nbformat_minor": 5
}
